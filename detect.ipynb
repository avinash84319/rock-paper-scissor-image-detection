{
 "cells": [
  {
   "cell_type": "code",
   "execution_count": 1,
   "metadata": {},
   "outputs": [
    {
     "name": "stderr",
     "output_type": "stream",
     "text": [
      "2023-07-18 15:58:23.796223: I tensorflow/core/platform/cpu_feature_guard.cc:182] This TensorFlow binary is optimized to use available CPU instructions in performance-critical operations.\n",
      "To enable the following instructions: AVX2 FMA, in other operations, rebuild TensorFlow with the appropriate compiler flags.\n",
      "2023-07-18 15:58:24.858877: W tensorflow/compiler/tf2tensorrt/utils/py_utils.cc:38] TF-TRT Warning: Could not find TensorRT\n"
     ]
    }
   ],
   "source": [
    "import tensorflow as tf\n",
    "import numpy as np\n",
    "import cv2\n",
    "import matplotlib.pyplot as plt"
   ]
  },
  {
   "cell_type": "code",
   "execution_count": 2,
   "metadata": {},
   "outputs": [
    {
     "name": "stderr",
     "output_type": "stream",
     "text": [
      "2023-07-18 15:58:27.703765: I tensorflow/compiler/xla/stream_executor/cuda/cuda_gpu_executor.cc:982] could not open file to read NUMA node: /sys/bus/pci/devices/0000:01:00.0/numa_node\n",
      "Your kernel may have been built without NUMA support.\n",
      "2023-07-18 15:58:27.809236: I tensorflow/compiler/xla/stream_executor/cuda/cuda_gpu_executor.cc:982] could not open file to read NUMA node: /sys/bus/pci/devices/0000:01:00.0/numa_node\n",
      "Your kernel may have been built without NUMA support.\n",
      "2023-07-18 15:58:27.809282: I tensorflow/compiler/xla/stream_executor/cuda/cuda_gpu_executor.cc:982] could not open file to read NUMA node: /sys/bus/pci/devices/0000:01:00.0/numa_node\n",
      "Your kernel may have been built without NUMA support.\n"
     ]
    },
    {
     "data": {
      "text/plain": [
       "[PhysicalDevice(name='/physical_device:GPU:0', device_type='GPU')]"
      ]
     },
     "execution_count": 2,
     "metadata": {},
     "output_type": "execute_result"
    }
   ],
   "source": [
    "tf.config.list_physical_devices('GPU')"
   ]
  },
  {
   "cell_type": "code",
   "execution_count": 3,
   "metadata": {},
   "outputs": [],
   "source": [
    "from tensorflow.keras.preprocessing.image import ImageDataGenerator"
   ]
  },
  {
   "cell_type": "code",
   "execution_count": 4,
   "metadata": {},
   "outputs": [
    {
     "name": "stdout",
     "output_type": "stream",
     "text": [
      "Found 2520 images belonging to 3 classes.\n",
      "Found 372 images belonging to 3 classes.\n"
     ]
    }
   ],
   "source": [
    "imagegenerator=ImageDataGenerator(rescale=1/255)\n",
    "\n",
    "train=imagegenerator.flow_from_directory(\n",
    "    './Rock-Paper-Scissors/train',\n",
    "    target_size=(150,150),\n",
    "    batch_size=32,\n",
    "    class_mode='categorical'\n",
    ")\n",
    "\n",
    "validation=imagegenerator.flow_from_directory(\n",
    "    './Rock-Paper-Scissors/test',\n",
    "    target_size=(150,150),\n",
    "    batch_size=32,\n",
    "    class_mode='categorical'\n",
    ")"
   ]
  },
  {
   "cell_type": "code",
   "execution_count": 5,
   "metadata": {},
   "outputs": [
    {
     "data": {
      "text/plain": [
       "(array([[[[0.9960785 , 0.9960785 , 0.9960785 ],\n",
       "          [0.9960785 , 0.9960785 , 0.9960785 ],\n",
       "          [0.9960785 , 0.9960785 , 0.9960785 ],\n",
       "          ...,\n",
       "          [0.9921569 , 0.9921569 , 0.9921569 ],\n",
       "          [0.9921569 , 0.9921569 , 0.9921569 ],\n",
       "          [0.9960785 , 0.9960785 , 0.9960785 ]],\n",
       " \n",
       "         [[0.9960785 , 0.9960785 , 0.9960785 ],\n",
       "          [0.9960785 , 0.9960785 , 0.9960785 ],\n",
       "          [0.9960785 , 0.9960785 , 0.9960785 ],\n",
       "          ...,\n",
       "          [0.9960785 , 0.9960785 , 0.9960785 ],\n",
       "          [0.9960785 , 0.9960785 , 0.9960785 ],\n",
       "          [0.9921569 , 0.9921569 , 0.9921569 ]],\n",
       " \n",
       "         [[0.9921569 , 0.9921569 , 0.9921569 ],\n",
       "          [0.9960785 , 0.9960785 , 0.9960785 ],\n",
       "          [0.9960785 , 0.9960785 , 0.9960785 ],\n",
       "          ...,\n",
       "          [0.9921569 , 0.9921569 , 0.9921569 ],\n",
       "          [0.9921569 , 0.9921569 , 0.9921569 ],\n",
       "          [0.9921569 , 0.9921569 , 0.9921569 ]],\n",
       " \n",
       "         ...,\n",
       " \n",
       "         [[0.98823535, 0.98823535, 0.98823535],\n",
       "          [0.9843138 , 0.9843138 , 0.9843138 ],\n",
       "          [0.9843138 , 0.9843138 , 0.9843138 ],\n",
       "          ...,\n",
       "          [0.9843138 , 0.9843138 , 0.9843138 ],\n",
       "          [0.9843138 , 0.9843138 , 0.9843138 ],\n",
       "          [0.9803922 , 0.9803922 , 0.9803922 ]],\n",
       " \n",
       "         [[0.9843138 , 0.9843138 , 0.9843138 ],\n",
       "          [0.9843138 , 0.9843138 , 0.9843138 ],\n",
       "          [0.9843138 , 0.9843138 , 0.9843138 ],\n",
       "          ...,\n",
       "          [0.9803922 , 0.9803922 , 0.9803922 ],\n",
       "          [0.97647065, 0.97647065, 0.97647065],\n",
       "          [0.9843138 , 0.9843138 , 0.9843138 ]],\n",
       " \n",
       "         [[0.98823535, 0.98823535, 0.98823535],\n",
       "          [0.9843138 , 0.9843138 , 0.9843138 ],\n",
       "          [0.9803922 , 0.9803922 , 0.9803922 ],\n",
       "          ...,\n",
       "          [0.9803922 , 0.9803922 , 0.9803922 ],\n",
       "          [0.9803922 , 0.9803922 , 0.9803922 ],\n",
       "          [0.9803922 , 0.9803922 , 0.9803922 ]]],\n",
       " \n",
       " \n",
       "        [[[1.        , 1.        , 1.        ],\n",
       "          [1.        , 1.        , 1.        ],\n",
       "          [1.        , 1.        , 1.        ],\n",
       "          ...,\n",
       "          [1.        , 1.        , 1.        ],\n",
       "          [1.        , 1.        , 1.        ],\n",
       "          [1.        , 1.        , 1.        ]],\n",
       " \n",
       "         [[1.        , 1.        , 1.        ],\n",
       "          [1.        , 1.        , 1.        ],\n",
       "          [1.        , 1.        , 1.        ],\n",
       "          ...,\n",
       "          [1.        , 1.        , 1.        ],\n",
       "          [1.        , 1.        , 1.        ],\n",
       "          [1.        , 1.        , 1.        ]],\n",
       " \n",
       "         [[1.        , 1.        , 1.        ],\n",
       "          [1.        , 1.        , 1.        ],\n",
       "          [1.        , 1.        , 1.        ],\n",
       "          ...,\n",
       "          [1.        , 1.        , 1.        ],\n",
       "          [1.        , 1.        , 1.        ],\n",
       "          [1.        , 1.        , 1.        ]],\n",
       " \n",
       "         ...,\n",
       " \n",
       "         [[1.        , 1.        , 1.        ],\n",
       "          [1.        , 1.        , 1.        ],\n",
       "          [1.        , 1.        , 1.        ],\n",
       "          ...,\n",
       "          [0.9921569 , 0.9921569 , 0.9921569 ],\n",
       "          [0.9960785 , 0.9960785 , 0.9960785 ],\n",
       "          [0.98823535, 0.98823535, 0.98823535]],\n",
       " \n",
       "         [[1.        , 1.        , 1.        ],\n",
       "          [1.        , 1.        , 1.        ],\n",
       "          [1.        , 1.        , 1.        ],\n",
       "          ...,\n",
       "          [0.9960785 , 0.9960785 , 0.9960785 ],\n",
       "          [0.9960785 , 0.9960785 , 0.9960785 ],\n",
       "          [0.9960785 , 0.9960785 , 0.9960785 ]],\n",
       " \n",
       "         [[1.        , 1.        , 1.        ],\n",
       "          [1.        , 1.        , 1.        ],\n",
       "          [1.        , 1.        , 1.        ],\n",
       "          ...,\n",
       "          [1.        , 1.        , 1.        ],\n",
       "          [1.        , 1.        , 1.        ],\n",
       "          [0.9960785 , 0.9960785 , 0.9960785 ]]],\n",
       " \n",
       " \n",
       "        [[[1.        , 1.        , 1.        ],\n",
       "          [1.        , 1.        , 1.        ],\n",
       "          [1.        , 1.        , 1.        ],\n",
       "          ...,\n",
       "          [1.        , 1.        , 1.        ],\n",
       "          [1.        , 1.        , 1.        ],\n",
       "          [1.        , 1.        , 1.        ]],\n",
       " \n",
       "         [[1.        , 1.        , 1.        ],\n",
       "          [1.        , 1.        , 1.        ],\n",
       "          [1.        , 1.        , 1.        ],\n",
       "          ...,\n",
       "          [1.        , 1.        , 1.        ],\n",
       "          [1.        , 1.        , 1.        ],\n",
       "          [1.        , 1.        , 1.        ]],\n",
       " \n",
       "         [[1.        , 1.        , 1.        ],\n",
       "          [1.        , 1.        , 1.        ],\n",
       "          [1.        , 1.        , 1.        ],\n",
       "          ...,\n",
       "          [1.        , 1.        , 1.        ],\n",
       "          [1.        , 1.        , 1.        ],\n",
       "          [1.        , 1.        , 1.        ]],\n",
       " \n",
       "         ...,\n",
       " \n",
       "         [[1.        , 1.        , 1.        ],\n",
       "          [1.        , 1.        , 1.        ],\n",
       "          [1.        , 1.        , 1.        ],\n",
       "          ...,\n",
       "          [0.9960785 , 0.9960785 , 0.9960785 ],\n",
       "          [0.9921569 , 0.9921569 , 0.9921569 ],\n",
       "          [0.9921569 , 0.9921569 , 0.9921569 ]],\n",
       " \n",
       "         [[1.        , 1.        , 1.        ],\n",
       "          [1.        , 1.        , 1.        ],\n",
       "          [1.        , 1.        , 1.        ],\n",
       "          ...,\n",
       "          [0.9960785 , 0.9960785 , 0.9960785 ],\n",
       "          [0.9960785 , 0.9960785 , 0.9960785 ],\n",
       "          [0.9960785 , 0.9960785 , 0.9960785 ]],\n",
       " \n",
       "         [[1.        , 1.        , 1.        ],\n",
       "          [1.        , 1.        , 1.        ],\n",
       "          [1.        , 1.        , 1.        ],\n",
       "          ...,\n",
       "          [0.9960785 , 0.9960785 , 0.9960785 ],\n",
       "          [0.9960785 , 0.9960785 , 0.9960785 ],\n",
       "          [0.9960785 , 0.9960785 , 0.9960785 ]]],\n",
       " \n",
       " \n",
       "        ...,\n",
       " \n",
       " \n",
       "        [[[1.        , 1.        , 1.        ],\n",
       "          [1.        , 1.        , 1.        ],\n",
       "          [1.        , 1.        , 1.        ],\n",
       "          ...,\n",
       "          [0.9960785 , 0.9960785 , 0.9960785 ],\n",
       "          [0.9960785 , 0.9960785 , 0.9960785 ],\n",
       "          [1.        , 1.        , 1.        ]],\n",
       " \n",
       "         [[1.        , 1.        , 1.        ],\n",
       "          [1.        , 1.        , 1.        ],\n",
       "          [1.        , 1.        , 1.        ],\n",
       "          ...,\n",
       "          [1.        , 1.        , 1.        ],\n",
       "          [1.        , 1.        , 1.        ],\n",
       "          [1.        , 1.        , 1.        ]],\n",
       " \n",
       "         [[1.        , 1.        , 1.        ],\n",
       "          [1.        , 1.        , 1.        ],\n",
       "          [1.        , 1.        , 1.        ],\n",
       "          ...,\n",
       "          [1.        , 1.        , 1.        ],\n",
       "          [1.        , 1.        , 1.        ],\n",
       "          [1.        , 1.        , 1.        ]],\n",
       " \n",
       "         ...,\n",
       " \n",
       "         [[1.        , 1.        , 1.        ],\n",
       "          [1.        , 1.        , 1.        ],\n",
       "          [1.        , 1.        , 1.        ],\n",
       "          ...,\n",
       "          [0.9960785 , 0.9960785 , 0.9960785 ],\n",
       "          [0.9921569 , 0.9921569 , 0.9921569 ],\n",
       "          [0.98823535, 0.98823535, 0.98823535]],\n",
       " \n",
       "         [[1.        , 1.        , 1.        ],\n",
       "          [1.        , 1.        , 1.        ],\n",
       "          [1.        , 1.        , 1.        ],\n",
       "          ...,\n",
       "          [0.9960785 , 0.9960785 , 0.9960785 ],\n",
       "          [0.9921569 , 0.9921569 , 0.9921569 ],\n",
       "          [0.9960785 , 0.9960785 , 0.9960785 ]],\n",
       " \n",
       "         [[1.        , 1.        , 1.        ],\n",
       "          [1.        , 1.        , 1.        ],\n",
       "          [1.        , 1.        , 1.        ],\n",
       "          ...,\n",
       "          [0.9960785 , 0.9960785 , 0.9960785 ],\n",
       "          [0.9960785 , 0.9960785 , 0.9960785 ],\n",
       "          [0.9960785 , 0.9960785 , 0.9960785 ]]],\n",
       " \n",
       " \n",
       "        [[[0.9960785 , 0.9960785 , 0.9960785 ],\n",
       "          [0.9960785 , 0.9960785 , 0.9960785 ],\n",
       "          [0.9921569 , 0.9921569 , 0.9921569 ],\n",
       "          ...,\n",
       "          [0.9568628 , 0.9568628 , 0.9568628 ],\n",
       "          [0.9568628 , 0.9568628 , 0.9568628 ],\n",
       "          [0.9490197 , 0.9490197 , 0.9490197 ]],\n",
       " \n",
       "         [[0.9960785 , 0.9960785 , 0.9960785 ],\n",
       "          [0.9960785 , 0.9960785 , 0.9960785 ],\n",
       "          [0.9921569 , 0.9921569 , 0.9921569 ],\n",
       "          ...,\n",
       "          [0.95294124, 0.95294124, 0.95294124],\n",
       "          [0.95294124, 0.95294124, 0.95294124],\n",
       "          [0.9568628 , 0.9568628 , 0.9568628 ]],\n",
       " \n",
       "         [[0.9960785 , 0.9960785 , 0.9960785 ],\n",
       "          [0.9921569 , 0.9921569 , 0.9921569 ],\n",
       "          [0.9921569 , 0.9921569 , 0.9921569 ],\n",
       "          ...,\n",
       "          [0.9568628 , 0.9568628 , 0.9568628 ],\n",
       "          [0.9568628 , 0.9568628 , 0.9568628 ],\n",
       "          [0.9450981 , 0.9450981 , 0.9450981 ]],\n",
       " \n",
       "         ...,\n",
       " \n",
       "         [[0.9921569 , 0.9921569 , 0.9921569 ],\n",
       "          [0.98823535, 0.98823535, 0.98823535],\n",
       "          [0.98823535, 0.98823535, 0.98823535],\n",
       "          ...,\n",
       "          [0.9803922 , 0.9803922 , 0.9803922 ],\n",
       "          [0.9803922 , 0.9803922 , 0.9803922 ],\n",
       "          [0.9803922 , 0.9803922 , 0.9803922 ]],\n",
       " \n",
       "         [[0.9921569 , 0.9921569 , 0.9921569 ],\n",
       "          [0.9921569 , 0.9921569 , 0.9921569 ],\n",
       "          [0.98823535, 0.98823535, 0.98823535],\n",
       "          ...,\n",
       "          [0.97647065, 0.97647065, 0.97647065],\n",
       "          [0.9803922 , 0.9803922 , 0.9803922 ],\n",
       "          [0.97647065, 0.97647065, 0.97647065]],\n",
       " \n",
       "         [[0.9921569 , 0.9921569 , 0.9921569 ],\n",
       "          [0.9843138 , 0.9843138 , 0.9843138 ],\n",
       "          [0.98823535, 0.98823535, 0.98823535],\n",
       "          ...,\n",
       "          [0.97647065, 0.97647065, 0.97647065],\n",
       "          [0.9686275 , 0.9686275 , 0.9686275 ],\n",
       "          [0.97647065, 0.97647065, 0.97647065]]],\n",
       " \n",
       " \n",
       "        [[[0.9921569 , 0.9921569 , 0.9921569 ],\n",
       "          [0.9921569 , 0.9921569 , 0.9921569 ],\n",
       "          [0.9921569 , 0.9921569 , 0.9921569 ],\n",
       "          ...,\n",
       "          [0.96470594, 0.96470594, 0.96470594],\n",
       "          [0.9568628 , 0.9568628 , 0.9568628 ],\n",
       "          [0.9568628 , 0.9568628 , 0.9568628 ]],\n",
       " \n",
       "         [[0.9921569 , 0.9921569 , 0.9921569 ],\n",
       "          [0.9960785 , 0.9960785 , 0.9960785 ],\n",
       "          [1.        , 1.        , 1.        ],\n",
       "          ...,\n",
       "          [0.9568628 , 0.9568628 , 0.9568628 ],\n",
       "          [0.9568628 , 0.9568628 , 0.9568628 ],\n",
       "          [0.9568628 , 0.9568628 , 0.9568628 ]],\n",
       " \n",
       "         [[0.9921569 , 0.9921569 , 0.9921569 ],\n",
       "          [0.9960785 , 0.9960785 , 0.9960785 ],\n",
       "          [0.9921569 , 0.9921569 , 0.9921569 ],\n",
       "          ...,\n",
       "          [0.96470594, 0.96470594, 0.96470594],\n",
       "          [0.9607844 , 0.9607844 , 0.9607844 ],\n",
       "          [0.95294124, 0.95294124, 0.95294124]],\n",
       " \n",
       "         ...,\n",
       " \n",
       "         [[0.9843138 , 0.9843138 , 0.9843138 ],\n",
       "          [0.9803922 , 0.9803922 , 0.9803922 ],\n",
       "          [0.9843138 , 0.9843138 , 0.9843138 ],\n",
       "          ...,\n",
       "          [0.9803922 , 0.9803922 , 0.9803922 ],\n",
       "          [0.9803922 , 0.9803922 , 0.9803922 ],\n",
       "          [0.9803922 , 0.9803922 , 0.9803922 ]],\n",
       " \n",
       "         [[0.9803922 , 0.9803922 , 0.9803922 ],\n",
       "          [0.98823535, 0.98823535, 0.98823535],\n",
       "          [0.9843138 , 0.9843138 , 0.9843138 ],\n",
       "          ...,\n",
       "          [0.97647065, 0.97647065, 0.97647065],\n",
       "          [0.97647065, 0.97647065, 0.97647065],\n",
       "          [0.9843138 , 0.9843138 , 0.9843138 ]],\n",
       " \n",
       "         [[0.98823535, 0.98823535, 0.98823535],\n",
       "          [0.9843138 , 0.9843138 , 0.9843138 ],\n",
       "          [0.9843138 , 0.9843138 , 0.9843138 ],\n",
       "          ...,\n",
       "          [0.97647065, 0.97647065, 0.97647065],\n",
       "          [0.97647065, 0.97647065, 0.97647065],\n",
       "          [0.97647065, 0.97647065, 0.97647065]]]], dtype=float32),\n",
       " array([[0., 0., 1.],\n",
       "        [1., 0., 0.],\n",
       "        [0., 1., 0.],\n",
       "        [0., 1., 0.],\n",
       "        [1., 0., 0.],\n",
       "        [0., 0., 1.],\n",
       "        [0., 1., 0.],\n",
       "        [0., 0., 1.],\n",
       "        [1., 0., 0.],\n",
       "        [0., 0., 1.],\n",
       "        [0., 1., 0.],\n",
       "        [1., 0., 0.],\n",
       "        [0., 1., 0.],\n",
       "        [1., 0., 0.],\n",
       "        [0., 0., 1.],\n",
       "        [0., 0., 1.],\n",
       "        [0., 1., 0.],\n",
       "        [0., 0., 1.],\n",
       "        [0., 1., 0.],\n",
       "        [0., 1., 0.],\n",
       "        [0., 1., 0.],\n",
       "        [0., 1., 0.],\n",
       "        [1., 0., 0.],\n",
       "        [0., 1., 0.],\n",
       "        [1., 0., 0.],\n",
       "        [0., 0., 1.],\n",
       "        [1., 0., 0.],\n",
       "        [0., 1., 0.],\n",
       "        [0., 1., 0.],\n",
       "        [0., 1., 0.],\n",
       "        [0., 0., 1.],\n",
       "        [1., 0., 0.]], dtype=float32))"
      ]
     },
     "execution_count": 5,
     "metadata": {},
     "output_type": "execute_result"
    }
   ],
   "source": [
    "train.next()"
   ]
  },
  {
   "cell_type": "code",
   "execution_count": 10,
   "metadata": {},
   "outputs": [],
   "source": [
    "model=tf.keras.models.Sequential([\n",
    "    tf.keras.layers.Conv2D(64,(3,3),activation='relu',input_shape=(150,150,3)),\n",
    "    tf.keras.layers.MaxPooling2D(2,2),\n",
    "    tf.keras.layers.Conv2D(64,(3,3),activation='relu'),\n",
    "    tf.keras.layers.MaxPooling2D(2,2),\n",
    "    tf.keras.layers.Conv2D(128,(3,3),activation='relu'),\n",
    "    tf.keras.layers.MaxPooling2D(2,2),\n",
    "    tf.keras.layers.Flatten(),\n",
    "    tf.keras.layers.Dense(512,activation='relu'),\n",
    "    tf.keras.layers.Dense(3,activation='softmax')\n",
    "])\n",
    "\n",
    "model.compile(loss='categorical_crossentropy',optimizer='rmsprop',metrics=['accuracy'])"
   ]
  },
  {
   "cell_type": "code",
   "execution_count": 11,
   "metadata": {},
   "outputs": [
    {
     "name": "stdout",
     "output_type": "stream",
     "text": [
      "Model: \"sequential_2\"\n",
      "_________________________________________________________________\n",
      " Layer (type)                Output Shape              Param #   \n",
      "=================================================================\n",
      " conv2d_6 (Conv2D)           (None, 148, 148, 64)      1792      \n",
      "                                                                 \n",
      " max_pooling2d_6 (MaxPooling  (None, 74, 74, 64)       0         \n",
      " 2D)                                                             \n",
      "                                                                 \n",
      " conv2d_7 (Conv2D)           (None, 72, 72, 64)        36928     \n",
      "                                                                 \n",
      " max_pooling2d_7 (MaxPooling  (None, 36, 36, 64)       0         \n",
      " 2D)                                                             \n",
      "                                                                 \n",
      " conv2d_8 (Conv2D)           (None, 34, 34, 128)       73856     \n",
      "                                                                 \n",
      " max_pooling2d_8 (MaxPooling  (None, 17, 17, 128)      0         \n",
      " 2D)                                                             \n",
      "                                                                 \n",
      " flatten (Flatten)           (None, 36992)             0         \n",
      "                                                                 \n",
      " dense_4 (Dense)             (None, 512)               18940416  \n",
      "                                                                 \n",
      " dense_5 (Dense)             (None, 3)                 1539      \n",
      "                                                                 \n",
      "=================================================================\n",
      "Total params: 19,054,531\n",
      "Trainable params: 19,054,531\n",
      "Non-trainable params: 0\n",
      "_________________________________________________________________\n"
     ]
    }
   ],
   "source": [
    "model.summary()"
   ]
  },
  {
   "cell_type": "code",
   "execution_count": 14,
   "metadata": {},
   "outputs": [
    {
     "name": "stdout",
     "output_type": "stream",
     "text": [
      "Epoch 1/5\n"
     ]
    },
    {
     "name": "stderr",
     "output_type": "stream",
     "text": [
      "2023-07-18 16:05:26.071166: I tensorflow/core/common_runtime/executor.cc:1197] [/device:CPU:0] (DEBUG INFO) Executor start aborting (this does not indicate an error and you can ignore this message): INVALID_ARGUMENT: You must feed a value for placeholder tensor 'Placeholder/_0' with dtype int32\n",
      "\t [[{{node Placeholder/_0}}]]\n"
     ]
    },
    {
     "name": "stdout",
     "output_type": "stream",
     "text": [
      "79/79 [==============================] - ETA: 0s - loss: 1.0947e-04 - accuracy: 1.0000"
     ]
    },
    {
     "name": "stderr",
     "output_type": "stream",
     "text": [
      "2023-07-18 16:05:54.403136: I tensorflow/core/common_runtime/executor.cc:1197] [/device:CPU:0] (DEBUG INFO) Executor start aborting (this does not indicate an error and you can ignore this message): INVALID_ARGUMENT: You must feed a value for placeholder tensor 'Placeholder/_0' with dtype int32\n",
      "\t [[{{node Placeholder/_0}}]]\n"
     ]
    },
    {
     "name": "stdout",
     "output_type": "stream",
     "text": [
      "79/79 [==============================] - 34s 429ms/step - loss: 1.0947e-04 - accuracy: 1.0000 - val_loss: 1.5261 - val_accuracy: 0.7930\n",
      "Epoch 2/5\n",
      "79/79 [==============================] - 34s 425ms/step - loss: 7.0461e-06 - accuracy: 1.0000 - val_loss: 1.7099 - val_accuracy: 0.7823\n",
      "Epoch 3/5\n",
      "79/79 [==============================] - 31s 386ms/step - loss: 3.0366e-06 - accuracy: 1.0000 - val_loss: 1.7531 - val_accuracy: 0.7823\n",
      "Epoch 4/5\n",
      "79/79 [==============================] - 32s 397ms/step - loss: 2.0398e-06 - accuracy: 1.0000 - val_loss: 1.8445 - val_accuracy: 0.7769\n",
      "Epoch 5/5\n",
      "79/79 [==============================] - 31s 392ms/step - loss: 1.5531e-06 - accuracy: 1.0000 - val_loss: 1.8624 - val_accuracy: 0.7769\n"
     ]
    },
    {
     "data": {
      "text/plain": [
       "<keras.callbacks.History at 0x7faf710836a0>"
      ]
     },
     "execution_count": 14,
     "metadata": {},
     "output_type": "execute_result"
    }
   ],
   "source": [
    "model.fit(train,epochs=5,validation_data=validation,verbose=1)"
   ]
  },
  {
   "cell_type": "code",
   "execution_count": 27,
   "metadata": {},
   "outputs": [],
   "source": [
    "image=cv2.imread('./Rock-Paper-Scissors/validation/rock9.png')\n",
    "image=cv2.resize(image,(150,150))"
   ]
  },
  {
   "cell_type": "code",
   "execution_count": 28,
   "metadata": {},
   "outputs": [
    {
     "name": "stdout",
     "output_type": "stream",
     "text": [
      "1/1 [==============================] - 0s 79ms/step\n"
     ]
    }
   ],
   "source": [
    "prediction=model.predict(image.reshape(1,150,150,3))"
   ]
  },
  {
   "cell_type": "code",
   "execution_count": 30,
   "metadata": {},
   "outputs": [],
   "source": [
    "pred=np.argmax(prediction)"
   ]
  },
  {
   "cell_type": "code",
   "execution_count": 31,
   "metadata": {},
   "outputs": [
    {
     "name": "stdout",
     "output_type": "stream",
     "text": [
      "Rock\n"
     ]
    }
   ],
   "source": [
    "if pred==0:\n",
    "    print('Paper')\n",
    "elif pred==1:\n",
    "    print('Rock')\n",
    "else:\n",
    "    print('Scissors')"
   ]
  },
  {
   "cell_type": "code",
   "execution_count": 32,
   "metadata": {},
   "outputs": [],
   "source": [
    "from tensorflow.keras.models import load_model\n",
    "model.save('rps.h5')"
   ]
  },
  {
   "cell_type": "code",
   "execution_count": null,
   "metadata": {},
   "outputs": [],
   "source": []
  }
 ],
 "metadata": {
  "kernelspec": {
   "display_name": "tf",
   "language": "python",
   "name": "python3"
  },
  "language_info": {
   "codemirror_mode": {
    "name": "ipython",
    "version": 3
   },
   "file_extension": ".py",
   "mimetype": "text/x-python",
   "name": "python",
   "nbconvert_exporter": "python",
   "pygments_lexer": "ipython3",
   "version": "3.9.16"
  },
  "orig_nbformat": 4
 },
 "nbformat": 4,
 "nbformat_minor": 2
}
